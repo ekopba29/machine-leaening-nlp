{
  "cells": [
    {
      "cell_type": "code",
      "execution_count": 2,
      "metadata": {
        "colab": {
          "base_uri": "https://localhost:8080/"
        },
        "id": "10hEeREqoSFL",
        "outputId": "e48609cb-50ed-4389-ce53-8266b7021168"
      },
      "outputs": [
        {
          "output_type": "stream",
          "name": "stdout",
          "text": [
            "Collecting Sastrawi\n",
            "  Downloading Sastrawi-1.0.1-py2.py3-none-any.whl (209 kB)\n",
            "\u001b[?25l     \u001b[90m━━━━━━━━━━━━━━━━━━━━━━━━━━━━━━━━━━━━━━━━\u001b[0m \u001b[32m0.0/209.7 kB\u001b[0m \u001b[31m?\u001b[0m eta \u001b[36m-:--:--\u001b[0m\r\u001b[2K     \u001b[91m━━━━━━━━━━━━━━━━━━━━\u001b[0m\u001b[91m╸\u001b[0m\u001b[90m━━━━━━━━━━━━━━━━━━\u001b[0m \u001b[32m112.6/209.7 kB\u001b[0m \u001b[31m3.4 MB/s\u001b[0m eta \u001b[36m0:00:01\u001b[0m\r\u001b[2K     \u001b[90m━━━━━━━━━━━━━━━━━━━━━━━━━━━━━━━━━━━━━━━\u001b[0m \u001b[32m209.7/209.7 kB\u001b[0m \u001b[31m4.4 MB/s\u001b[0m eta \u001b[36m0:00:00\u001b[0m\n",
            "\u001b[?25hInstalling collected packages: Sastrawi\n",
            "Successfully installed Sastrawi-1.0.1\n"
          ]
        }
      ],
      "source": [
        "!pip install Sastrawi"
      ]
    },
    {
      "cell_type": "code",
      "execution_count": 14,
      "metadata": {
        "id": "m7Sy7CHCoc9W"
      },
      "outputs": [],
      "source": [
        "import pandas as pd\n",
        "from Sastrawi.StopWordRemover.StopWordRemoverFactory import StopWordRemoverFactory\n",
        "from Sastrawi.Stemmer.StemmerFactory import StemmerFactory\n",
        "import nltk\n",
        "\n",
        "# STOP WORD REMOVER\n",
        "stop_word = StopWordRemoverFactory().create_stop_word_remover()\n",
        "# STEMMER\n",
        "stemmer = StemmerFactory().create_stemmer()\n",
        "\n",
        "remove_tanda_baca = nltk.RegexpTokenizer(r\"\\w+\")\n",
        "\n",
        "# Fungsi untuk menghapus stopwords dari teks\n",
        "\n",
        "\n",
        "def pre_process_text(text):\n",
        "    text = ' '.join(remove_tanda_baca.tokenize(text))\n",
        "    return stop_word.remove(stemmer.stem(text))\n",
        "\n",
        "# Fungsi untuk mengganti nilai rating\n",
        "def convert_rating(rating):\n",
        "    if rating > 3:\n",
        "        return 1\n",
        "    elif rating < 3:\n",
        "        return 0\n",
        "    else:\n",
        "        return 0\n",
        "\n",
        "\n",
        "df = pd.read_csv('/content/reviews_mandiri.csv')\n",
        "\n",
        "rating_positif = df[df['rating'] > 3].sample(n=2000, axis=0)\n",
        "rating_negatif = df[df['rating'] < 3].sample(n=2000, axis=0)\n",
        "\n",
        "slice_df = pd.concat([rating_positif, rating_negatif])\n",
        "slice_df['is_positive'] = slice_df['rating'].apply(convert_rating)\n",
        "slice_df['review'] = slice_df['review'].apply(pre_process_text)"
      ]
    },
    {
      "cell_type": "code",
      "source": [
        "from sklearn.model_selection import train_test_split\n",
        "from tensorflow.keras.preprocessing.text import Tokenizer\n",
        "from tensorflow.keras.preprocessing.sequence import pad_sequences\n",
        "\n",
        "attribute = slice_df['review'].values\n",
        "label = slice_df['is_positive'].values\n",
        "\n",
        "data_latih, data_test, label_latih, label_test = train_test_split(attribute,label,test_size=0.2)\n",
        "tokenizer = Tokenizer(num_words=20000,oov_token='x')\n",
        "tokenizer.fit_on_texts(data_latih)\n",
        "\n",
        "sekuens_latih = tokenizer.texts_to_sequences(data_latih)\n",
        "sekuens_test = tokenizer.texts_to_sequences(data_test)\n",
        "\n",
        "pad_latih = pad_sequences(sekuens_latih,padding='post',maxlen=200)\n",
        "pad_test = pad_sequences(sekuens_test,padding='post',maxlen=200)"
      ],
      "metadata": {
        "id": "9wKh4KihyVMP"
      },
      "execution_count": 31,
      "outputs": []
    },
    {
      "cell_type": "code",
      "execution_count": 35,
      "metadata": {
        "colab": {
          "base_uri": "https://localhost:8080/"
        },
        "id": "Mx41Gwhk9h5w",
        "outputId": "1bcf845f-6d8b-4979-d1d5-5c7170fc0585"
      },
      "outputs": [
        {
          "output_type": "stream",
          "name": "stdout",
          "text": [
            "Epoch 1/50\n",
            "100/100 [==============================] - 14s 124ms/step - loss: 0.5905 - accuracy: 0.7206 - val_loss: 0.3311 - val_accuracy: 0.8750\n",
            "Epoch 2/50\n",
            "100/100 [==============================] - 11s 107ms/step - loss: 0.3045 - accuracy: 0.8978 - val_loss: 0.4768 - val_accuracy: 0.8350\n",
            "Epoch 3/50\n",
            "100/100 [==============================] - ETA: 0s - loss: 0.2329 - accuracy: 0.9237\n",
            " Epoch 2\n",
            " Accuracy has reach = 92.37%/n training has been stopped.\n",
            "100/100 [==============================] - 12s 125ms/step - loss: 0.2329 - accuracy: 0.9237 - val_loss: 0.3445 - val_accuracy: 0.8575\n"
          ]
        },
        {
          "output_type": "execute_result",
          "data": {
            "text/plain": [
              "<keras.callbacks.History at 0x7909f61edb70>"
            ]
          },
          "metadata": {},
          "execution_count": 35
        }
      ],
      "source": [
        "import tensorflow as tf\n",
        "from tensorflow.keras.preprocessing.sequence import pad_sequences\n",
        "import numpy as np\n",
        "\n",
        "# Contoh model dasar\n",
        "model_base = tf.keras.Sequential([\n",
        "    tf.keras.layers.Embedding(input_dim=15000, output_dim=1, input_length=200),\n",
        "    tf.keras.layers.LSTM(64),\n",
        "    tf.keras.layers.Dense(1, activation='sigmoid')\n",
        "])\n",
        "\n",
        "# Model dasar dengan penyetelan hyperparameter\n",
        "model_base.compile(\n",
        "    optimizer=tf.keras.optimizers.Adam(learning_rate=0.1),\n",
        "    loss='binary_crossentropy',\n",
        "    metrics=['accuracy']\n",
        ")\n",
        "\n",
        "ACCURACY_TRESHOLD = 90e-2\n",
        "class MyCallback(tf.keras.callbacks.Callback):\n",
        "    def on_epoch_end(self, epoch, logs = None):\n",
        "        accuracy = logs.get('accuracy')\n",
        "        if accuracy >= ACCURACY_TRESHOLD:\n",
        "            print(f'\\n Epoch {epoch}\\n Accuracy has reach = {logs[\"accuracy\"]*100:.2f}%/n training has been stopped.')\n",
        "            self.model.stop_training = True\n",
        "\n",
        "model_base.fit(\n",
        "    pad_latih,\n",
        "    label_latih,\n",
        "    epochs=50,\n",
        "    validation_data=(pad_test, label_test),\n",
        "    callbacks=[MyCallback()]\n",
        ")"
      ]
    },
    {
      "cell_type": "code",
      "source": [
        "model_base.save('model_sigmoid.keras')"
      ],
      "metadata": {
        "id": "61JDmJDk-nsD"
      },
      "execution_count": 38,
      "outputs": []
    }
  ],
  "metadata": {
    "accelerator": "TPU",
    "colab": {
      "provenance": []
    },
    "kernelspec": {
      "display_name": "Python 3",
      "name": "python3"
    },
    "language_info": {
      "name": "python"
    }
  },
  "nbformat": 4,
  "nbformat_minor": 0
}