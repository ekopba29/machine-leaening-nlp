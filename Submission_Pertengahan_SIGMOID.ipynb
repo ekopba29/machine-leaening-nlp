{
  "cells": [
    {
      "cell_type": "code",
      "execution_count": 5,
      "metadata": {
        "id": "m7Sy7CHCoc9W"
      },
      "outputs": [],
      "source": [
        "import pandas as pd\n",
        "from Sastrawi.StopWordRemover.StopWordRemoverFactory import StopWordRemoverFactory\n",
        "from Sastrawi.Stemmer.StemmerFactory import StemmerFactory\n",
        "import nltk\n",
        "\n",
        "# STOP WORD REMOVER\n",
        "stop_word = StopWordRemoverFactory().create_stop_word_remover()\n",
        "# STEMMER\n",
        "stemmer = StemmerFactory().create_stemmer()\n",
        "\n",
        "remove_tanda_baca = nltk.RegexpTokenizer(r\"\\w+\")\n",
        "\n",
        "# Fungsi untuk menghapus stopwords dari teks\n",
        "\n",
        "\n",
        "def pre_process_text(text):\n",
        "    text = ' '.join(remove_tanda_baca.tokenize(text))\n",
        "    return stop_word.remove(stemmer.stem(text))\n",
        "\n",
        "# Fungsi untuk mengganti nilai rating\n",
        "def convert_rating(rating):\n",
        "    if rating >= 3:\n",
        "        return 1\n",
        "    elif rating < 3:\n",
        "        return 0\n",
        "    else:\n",
        "        return 0\n",
        "\n",
        "\n",
        "df = pd.read_csv('./reviews_mandiri.csv')\n",
        "\n",
        "rating_positif = df[df['rating'] >= 3].sample(n=10000, axis=0)\n",
        "rating_negatif = df[df['rating'] < 3].sample(n=10000, axis=0)\n",
        "\n",
        "slice_df = pd.concat([rating_positif, rating_negatif])\n",
        "slice_df['is_positive'] = slice_df['rating'].apply(convert_rating)\n",
        "slice_df['review'] = slice_df['review'].apply(pre_process_text)"
      ]
    },
    {
      "cell_type": "code",
      "execution_count": 6,
      "metadata": {
        "id": "9wKh4KihyVMP"
      },
      "outputs": [],
      "source": [
        "from sklearn.model_selection import train_test_split\n",
        "from tensorflow.keras.preprocessing.text import Tokenizer\n",
        "from tensorflow.keras.preprocessing.sequence import pad_sequences\n",
        "\n",
        "attribute = slice_df['review'].values\n",
        "label = slice_df['is_positive'].values\n",
        "\n",
        "data_latih, data_test, label_latih, label_test = train_test_split(attribute,label,test_size=0.2)\n",
        "tokenizer = Tokenizer(num_words=35000,oov_token='x')\n",
        "tokenizer.fit_on_texts(data_latih)\n",
        "\n",
        "sekuens_latih = tokenizer.texts_to_sequences(data_latih)\n",
        "sekuens_test = tokenizer.texts_to_sequences(data_test)\n",
        "\n",
        "pad_latih = pad_sequences(sekuens_latih,padding='post',maxlen=87)\n",
        "pad_test = pad_sequences(sekuens_test,padding='post',maxlen=87)"
      ]
    },
    {
      "cell_type": "code",
      "execution_count": 11,
      "metadata": {
        "colab": {
          "base_uri": "https://localhost:8080/"
        },
        "id": "Mx41Gwhk9h5w",
        "outputId": "1bcf845f-6d8b-4979-d1d5-5c7170fc0585"
      },
      "outputs": [
        {
          "name": "stdout",
          "output_type": "stream",
          "text": [
            "Epoch 1/50\n",
            "500/500 [==============================] - 7s 13ms/step - loss: 0.4492 - accuracy: 0.7974 - val_loss: 0.3786 - val_accuracy: 0.8482\n",
            "Epoch 2/50\n",
            "500/500 [==============================] - 6s 13ms/step - loss: 0.3194 - accuracy: 0.8854 - val_loss: 0.3756 - val_accuracy: 0.8615\n",
            "Epoch 3/50\n",
            "500/500 [==============================] - 7s 13ms/step - loss: 0.2916 - accuracy: 0.8948 - val_loss: 0.3690 - val_accuracy: 0.8683\n",
            "Epoch 4/50\n",
            "500/500 [==============================] - 6s 13ms/step - loss: 0.2741 - accuracy: 0.9025 - val_loss: 0.3765 - val_accuracy: 0.8615\n",
            "Epoch 5/50\n",
            "500/500 [==============================] - 7s 13ms/step - loss: 0.2796 - accuracy: 0.9015 - val_loss: 0.3629 - val_accuracy: 0.8673\n",
            "Epoch 6/50\n",
            "500/500 [==============================] - 7s 13ms/step - loss: 0.2771 - accuracy: 0.9014 - val_loss: 0.4042 - val_accuracy: 0.8627\n",
            "Epoch 7/50\n",
            "500/500 [==============================] - 7s 13ms/step - loss: 0.2755 - accuracy: 0.9024 - val_loss: 0.3891 - val_accuracy: 0.8493\n",
            "Epoch 8/50\n",
            "500/500 [==============================] - 7s 13ms/step - loss: 0.2700 - accuracy: 0.9048 - val_loss: 0.4171 - val_accuracy: 0.8512\n",
            "Epoch 9/50\n",
            "500/500 [==============================] - 7s 13ms/step - loss: 0.2624 - accuracy: 0.9083 - val_loss: 0.3919 - val_accuracy: 0.8600\n",
            "Epoch 10/50\n",
            "500/500 [==============================] - 7s 13ms/step - loss: 0.2653 - accuracy: 0.9097 - val_loss: 0.3742 - val_accuracy: 0.8652\n",
            "Epoch 11/50\n",
            "500/500 [==============================] - 7s 13ms/step - loss: 0.4317 - accuracy: 0.8286 - val_loss: 0.4666 - val_accuracy: 0.7955\n",
            "Epoch 12/50\n",
            "500/500 [==============================] - 7s 13ms/step - loss: 0.4195 - accuracy: 0.8256 - val_loss: 0.5661 - val_accuracy: 0.7648\n",
            "Epoch 13/50\n",
            "500/500 [==============================] - 7s 13ms/step - loss: 0.4178 - accuracy: 0.8230 - val_loss: 0.4959 - val_accuracy: 0.7933\n"
          ]
        }
      ],
      "source": [
        "import tensorflow as tf\n",
        "from tensorflow.keras.preprocessing.sequence import pad_sequences\n",
        "import numpy as np\n",
        "from tensorflow.keras.callbacks import EarlyStopping\n",
        "\n",
        "# Contoh model dasar\n",
        "model_base = tf.keras.Sequential([\n",
        "    tf.keras.layers.Embedding(input_dim=15000, output_dim=1, input_length=87),\n",
        "    tf.keras.layers.LSTM(64),\n",
        "    tf.keras.layers.Dense(1, activation='sigmoid')\n",
        "])\n",
        "\n",
        "# Model dasar dengan penyetelan hyperparameter\n",
        "model_base.compile(\n",
        "    optimizer=tf.keras.optimizers.legacy.Adam(learning_rate=0.1),\n",
        "    loss='binary_crossentropy',\n",
        "    metrics=['accuracy']\n",
        ")\n",
        "\n",
        "early_stop_callback = EarlyStopping(\n",
        "    monitor='val_accuracy',  # Metrik yang akan dipantau (misalnya, akurasi pada data validasi)\n",
        "    patience=10,  # Jumlah epoch yang akan ditunggu tanpa peningkatan sebelum pelatihan dihentikan\n",
        "    restore_best_weights=True  # Mengembalikan bobot model ke bobot terbaik yang ditemukan selama pelatihan\n",
        ")\n",
        "training = model_base.fit(\n",
        "    pad_latih,\n",
        "    label_latih,\n",
        "    epochs=50,\n",
        "    validation_data=(pad_test, label_test),\n",
        "    callbacks=[early_stop_callback]\n",
        ")"
      ]
    },
    {
      "cell_type": "code",
      "execution_count": 124,
      "metadata": {},
      "outputs": [
        {
          "name": "stdout",
          "output_type": "stream",
          "text": [
            "1/1 [==============================] - 0s 16ms/step\n",
            "prob :  [0.17986178]\n",
            "Kalimat Anda diprediksi sebagai  negatif\n"
          ]
        }
      ],
      "source": [
        "from tensorflow.keras.preprocessing.sequence import pad_sequences\n",
        "\n",
        "test_sequence = tokenizer.texts_to_sequences([\"lemottt\"])\n",
        "padded_sentence =  pad_sequences(test_sequence,padding='post',maxlen=87)\n",
        "\n",
        "# Prediksi dengan model\n",
        "predictions = model_base.predict(padded_sentence)\n",
        "# Tentukan treshold untuk setiap kategori\n",
        "\n",
        "treshold_positif = 0.7\n",
        "treshold_negatif = 0.3\n",
        "\n",
        "print('prob : ',predictions[0])\n",
        "# Klasifikasikan hasil berdasarkan treshold\n",
        "if predictions[0] >= treshold_positif:\n",
        "    hasil_klasifikasi = \"positif\"\n",
        "elif predictions[0] <= treshold_negatif:\n",
        "    hasil_klasifikasi = \"negatif\"\n",
        "else:\n",
        "    hasil_klasifikasi = \"netral\"\n",
        "\n",
        "print('Kalimat Anda diprediksi sebagai ', hasil_klasifikasi)\n"
      ]
    },
    {
      "cell_type": "code",
      "execution_count": 38,
      "metadata": {
        "id": "61JDmJDk-nsD"
      },
      "outputs": [],
      "source": [
        "model_base.save('model_sigmoid.keras')"
      ]
    }
  ],
  "metadata": {
    "accelerator": "TPU",
    "colab": {
      "provenance": []
    },
    "kernelspec": {
      "display_name": "Python 3",
      "name": "python3"
    },
    "language_info": {
      "codemirror_mode": {
        "name": "ipython",
        "version": 3
      },
      "file_extension": ".py",
      "mimetype": "text/x-python",
      "name": "python",
      "nbconvert_exporter": "python",
      "pygments_lexer": "ipython3",
      "version": "3.10.13"
    }
  },
  "nbformat": 4,
  "nbformat_minor": 0
}
