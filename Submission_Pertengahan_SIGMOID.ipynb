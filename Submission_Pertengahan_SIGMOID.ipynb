{
  "cells": [
    {
      "cell_type": "code",
      "execution_count": 7,
      "metadata": {
        "id": "m7Sy7CHCoc9W"
      },
      "outputs": [],
      "source": [
        "import pandas as pd\n",
        "from Sastrawi.StopWordRemover.StopWordRemoverFactory import StopWordRemoverFactory\n",
        "from Sastrawi.Stemmer.StemmerFactory import StemmerFactory\n",
        "import nltk\n",
        "\n",
        "stop_word = StopWordRemoverFactory().create_stop_word_remover()\n",
        "stemmer = StemmerFactory().create_stemmer()\n",
        "remove_tanda_baca = nltk.RegexpTokenizer(r\"\\w+\")\n",
        "\n",
        "def pre_process_text(text):\n",
        "    text = ' '.join(remove_tanda_baca.tokenize(text))\n",
        "    return stop_word.remove(stemmer.stem(text))\n",
        "\n",
        "# Fungsi untuk mengganti nilai rating\n",
        "def convert_rating(rating):\n",
        "    if rating >= 3:\n",
        "        return 1\n",
        "    elif rating < 3:\n",
        "        return 0\n",
        "    else:\n",
        "        return 0\n",
        "\n",
        "\n",
        "df = pd.read_csv('./reviews_mandiri.csv')\n",
        "\n",
        "rating_positif = df[df['rating'] >= 3].sample(n=10000, axis=0)\n",
        "rating_negatif = df[df['rating'] < 3].sample(n=10000, axis=0)\n",
        "\n",
        "slice_df = pd.concat([rating_positif, rating_negatif])\n",
        "slice_df['is_positive'] = slice_df['rating'].apply(convert_rating)\n",
        "slice_df['review'] = slice_df['review'].apply(pre_process_text)"
      ]
    },
    {
      "cell_type": "code",
      "execution_count": 9,
      "metadata": {
        "id": "9wKh4KihyVMP"
      },
      "outputs": [],
      "source": [
        "from sklearn.model_selection import train_test_split\n",
        "from tensorflow.keras.preprocessing.text import Tokenizer\n",
        "from tensorflow.keras.preprocessing.sequence import pad_sequences\n",
        "\n",
        "attribute = slice_df['review'].values\n",
        "label = slice_df['is_positive'].values\n",
        "\n",
        "data_latih, data_test, label_latih, label_test = train_test_split(attribute,label,test_size=0.2)\n",
        "tokenizer = Tokenizer(num_words=35000,oov_token='x')\n",
        "tokenizer.fit_on_texts(data_latih)\n",
        "\n",
        "sekuens_latih = tokenizer.texts_to_sequences(data_latih)\n",
        "sekuens_test = tokenizer.texts_to_sequences(data_test)\n",
        "\n",
        "pad_latih = pad_sequences(sekuens_latih,padding='post',maxlen=87)\n",
        "pad_test = pad_sequences(sekuens_test,padding='post',maxlen=87)"
      ]
    },
    {
      "cell_type": "code",
      "execution_count": 46,
      "metadata": {
        "colab": {
          "base_uri": "https://localhost:8080/"
        },
        "id": "Mx41Gwhk9h5w",
        "outputId": "1bcf845f-6d8b-4979-d1d5-5c7170fc0585"
      },
      "outputs": [
        {
          "name": "stdout",
          "output_type": "stream",
          "text": [
            "Epoch 1/50\n",
            "500/500 [==============================] - 7s 14ms/step - loss: 0.7275 - accuracy: 0.5004 - val_loss: 0.6951 - val_accuracy: 0.4930\n",
            "Epoch 2/50\n",
            "500/500 [==============================] - 7s 14ms/step - loss: 0.7230 - accuracy: 0.4992 - val_loss: 0.6956 - val_accuracy: 0.5070\n",
            "Epoch 3/50\n",
            "500/500 [==============================] - 7s 13ms/step - loss: 0.7162 - accuracy: 0.4964 - val_loss: 0.6941 - val_accuracy: 0.4930\n",
            "Epoch 4/50\n",
            "500/500 [==============================] - 7s 14ms/step - loss: 0.7185 - accuracy: 0.4963 - val_loss: 0.6986 - val_accuracy: 0.5070\n",
            "Epoch 5/50\n",
            "500/500 [==============================] - 7s 13ms/step - loss: 0.5843 - accuracy: 0.6668 - val_loss: 0.4395 - val_accuracy: 0.8220\n",
            "Epoch 6/50\n",
            "500/500 [==============================] - 7s 13ms/step - loss: 0.4131 - accuracy: 0.8367 - val_loss: 0.4403 - val_accuracy: 0.8350\n",
            "Epoch 7/50\n",
            "500/500 [==============================] - 7s 13ms/step - loss: 0.3775 - accuracy: 0.8555 - val_loss: 0.3889 - val_accuracy: 0.8475\n",
            "Epoch 8/50\n",
            "500/500 [==============================] - 7s 13ms/step - loss: 0.3480 - accuracy: 0.8714 - val_loss: 0.4058 - val_accuracy: 0.8525\n",
            "Epoch 9/50\n",
            "500/500 [==============================] - 7s 13ms/step - loss: 0.3506 - accuracy: 0.8698 - val_loss: 0.4999 - val_accuracy: 0.8035\n",
            "Epoch 10/50\n",
            "500/500 [==============================] - 7s 13ms/step - loss: 0.3575 - accuracy: 0.8662 - val_loss: 0.4491 - val_accuracy: 0.8310\n",
            "Epoch 11/50\n",
            "500/500 [==============================] - 7s 13ms/step - loss: 0.5200 - accuracy: 0.8187 - val_loss: 0.4454 - val_accuracy: 0.8180\n",
            "Epoch 12/50\n",
            "500/500 [==============================] - 7s 13ms/step - loss: 0.4281 - accuracy: 0.8154 - val_loss: 0.4466 - val_accuracy: 0.8115\n",
            "Epoch 13/50\n",
            "500/500 [==============================] - 7s 13ms/step - loss: 0.4223 - accuracy: 0.8163 - val_loss: 0.4577 - val_accuracy: 0.8165\n",
            "Epoch 14/50\n",
            "500/500 [==============================] - 7s 13ms/step - loss: 0.4400 - accuracy: 0.8117 - val_loss: 0.4569 - val_accuracy: 0.7945\n",
            "Epoch 15/50\n",
            "500/500 [==============================] - 7s 13ms/step - loss: 0.4291 - accuracy: 0.8188 - val_loss: 0.4427 - val_accuracy: 0.8005\n",
            "Epoch 16/50\n",
            "500/500 [==============================] - 7s 13ms/step - loss: 0.4247 - accuracy: 0.8212 - val_loss: 0.4424 - val_accuracy: 0.8080\n",
            "Epoch 17/50\n",
            "500/500 [==============================] - 7s 13ms/step - loss: 0.4216 - accuracy: 0.8218 - val_loss: 0.4752 - val_accuracy: 0.7880\n",
            "Epoch 18/50\n",
            "500/500 [==============================] - 7s 13ms/step - loss: 0.4174 - accuracy: 0.8265 - val_loss: 0.4445 - val_accuracy: 0.8108\n"
          ]
        }
      ],
      "source": [
        "import tensorflow as tf\n",
        "from tensorflow.keras.preprocessing.sequence import pad_sequences\n",
        "import numpy as np\n",
        "from tensorflow.keras.callbacks import EarlyStopping\n",
        "\n",
        "# Contoh model dasar\n",
        "model_base = tf.keras.Sequential([\n",
        "    tf.keras.layers.Embedding(input_dim=15000, output_dim=1, input_length=87),\n",
        "    tf.keras.layers.LSTM(64),\n",
        "    tf.keras.layers.Dense(1, activation='sigmoid')\n",
        "])\n",
        "\n",
        "# Model dasar dengan penyetelan hyperparameter\n",
        "model_base.compile(\n",
        "    optimizer=tf.keras.optimizers.legacy.Adam(learning_rate=0.1),\n",
        "    loss='binary_crossentropy',\n",
        "    metrics=['accuracy']\n",
        ")\n",
        "\n",
        "early_stop_callback = EarlyStopping(\n",
        "    monitor='val_accuracy',  # Metrik yang akan dipantau (misalnya, akurasi pada data validasi)\n",
        "    patience=10,  # Jumlah epoch yang akan ditunggu tanpa peningkatan sebelum pelatihan dihentikan\n",
        "    restore_best_weights=True  # Mengembalikan bobot model ke bobot terbaik yang ditemukan selama pelatihan\n",
        ")\n",
        "training = model_base.fit(\n",
        "    pad_latih,\n",
        "    label_latih,\n",
        "    epochs=50,\n",
        "    validation_data=(pad_test, label_test),\n",
        "    callbacks=[early_stop_callback]\n",
        ")"
      ]
    },
    {
      "cell_type": "code",
      "execution_count": 47,
      "metadata": {},
      "outputs": [
        {
          "name": "stdout",
          "output_type": "stream",
          "text": [
            "evaluate model\n",
            "125/125 - 1s - loss: 0.4058 - accuracy: 0.8525 - 523ms/epoch - 4ms/step\n"
          ]
        },
        {
          "data": {
            "text/plain": [
              "Text(0.5, 1.0, 'Accuracy & Val Accuracy')"
            ]
          },
          "execution_count": 47,
          "metadata": {},
          "output_type": "execute_result"
        },
        {
          "data": {
            "image/png": "[encoded data removed]",
            "text/plain": [
              "<Figure size 640x480 with 1 Axes>"
            ]
          },
          "metadata": {},
          "output_type": "display_data"
        }
      ],
      "source": [
        "import matplotlib.pyplot as plt\n",
        "\n",
        "print(\"evaluate model\")\n",
        "model_base.evaluate(pad_test,label_test,verbose=2,)\n",
        "\n",
        "plt.plot(training.history['val_accuracy'])\n",
        "plt.plot(training.history['accuracy'])\n",
        "plt.legend(['val_accuracy','accuracy'])\n",
        "plt.title('Accuracy & Val Accuracy')"
      ]
    },
    {
      "cell_type": "code",
      "execution_count": 60,
      "metadata": {},
      "outputs": [
        {
          "name": "stdout",
          "output_type": "stream",
          "text": [
            "1/1 [==============================] - 0s 17ms/step\n",
            "prob :  [0.1807367]\n",
            "Kalimat Anda diprediksi sebagai  negatif\n"
          ]
        }
      ],
      "source": [
        "from tensorflow.keras.preprocessing.sequence import pad_sequences\n",
        "\n",
        "test_sequence = tokenizer.texts_to_sequences([\"pasrah aja soalnya gabisa login\"])\n",
        "padded_sentence =  pad_sequences(test_sequence,padding='post',maxlen=87)\n",
        "\n",
        "# Prediksi dengan model\n",
        "predictions = model_base.predict(padded_sentence)\n",
        "# Tentukan treshold untuk setiap kategori\n",
        "\n",
        "treshold_positif = 0.7\n",
        "treshold_negatif = 0.32\n",
        "\n",
        "print('prob : ',predictions[0])\n",
        "\n",
        "# Klasifikasikan hasil berdasarkan treshold\n",
        "if predictions[0] >= treshold_positif:\n",
        "    hasil_klasifikasi = \"positif\"\n",
        "elif predictions[0] <= treshold_negatif:\n",
        "    hasil_klasifikasi = \"negatif\"\n",
        "else:\n",
        "    hasil_klasifikasi = \"netral\"\n",
        "\n",
        "print('Kalimat Anda diprediksi sebagai ', hasil_klasifikasi)\n"
      ]
    },
    {
      "cell_type": "code",
      "execution_count": 63,
      "metadata": {
        "id": "61JDmJDk-nsD"
      },
      "outputs": [],
      "source": [
        "model_base.save('model_sigmoid.h5')"
      ]
    }
  ],
  "metadata": {
    "accelerator": "TPU",
    "colab": {
      "provenance": []
    },
    "kernelspec": {
      "display_name": "Python 3",
      "name": "python3"
    },
    "language_info": {
      "codemirror_mode": {
        "name": "ipython",
        "version": 3
      },
      "file_extension": ".py",
      "mimetype": "text/x-python",
      "name": "python",
      "nbconvert_exporter": "python",
      "pygments_lexer": "ipython3",
      "version": "3.10.13"
    }
  },
  "nbformat": 4,
  "nbformat_minor": 0
}
